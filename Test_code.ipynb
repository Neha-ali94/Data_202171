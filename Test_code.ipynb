{
 "cells": [
  {
   "cell_type": "code",
   "execution_count": 14,
   "metadata": {},
   "outputs": [],
   "source": [
    "#Import Library\n",
    "import pytest"
   ]
  },
  {
   "cell_type": "code",
   "execution_count": 10,
   "metadata": {},
   "outputs": [],
   "source": [
    "from bmi import get_bmis\n",
    "import json\n",
    "import requests"
   ]
  },
  {
   "cell_type": "code",
   "execution_count": 26,
   "metadata": {},
   "outputs": [],
   "source": [
    "#Creating Test function\n",
    "def test_bmi(bmi):\n",
    "    \"\"\"\n",
    "    Test that it can sum a list of integers\n",
    "    \"\"\"\n",
    "    data = {\"Gender\": \"Female\", \"HeightCm\": 150, \"WeightKg\": 70}\n",
    "    response = requests.get(bmi.get_bmis,data=data)\n",
    "    #token = json.loads(response.text)\n",
    "    assert response == 31.11\n",
    "    #assert token[\"token\"] == \"Female\"\n",
    "\n",
    "        "
   ]
  },
  {
   "cell_type": "code",
   "execution_count": null,
   "metadata": {},
   "outputs": [],
   "source": []
  }
 ],
 "metadata": {
  "kernelspec": {
   "display_name": "Python 3",
   "language": "python",
   "name": "python3"
  },
  "language_info": {
   "codemirror_mode": {
    "name": "ipython",
    "version": 3
   },
   "file_extension": ".py",
   "mimetype": "text/x-python",
   "name": "python",
   "nbconvert_exporter": "python",
   "pygments_lexer": "ipython3",
   "version": "3.8.3"
  }
 },
 "nbformat": 4,
 "nbformat_minor": 4
}

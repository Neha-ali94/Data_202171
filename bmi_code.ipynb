{
 "cells": [
  {
   "cell_type": "markdown",
   "metadata": {},
   "source": [
    "# Python BMI Coding Calculator"
   ]
  },
  {
   "cell_type": "markdown",
   "metadata": {},
   "source": [
    "#### For the given json input with weight and height parameters of a person, we have to perform the BMI"
   ]
  },
  {
   "cell_type": "code",
   "execution_count": 3,
   "metadata": {},
   "outputs": [],
   "source": [
    "#Importing the library\n",
    "import pandas as pd"
   ]
  },
  {
   "cell_type": "markdown",
   "metadata": {},
   "source": [
    "Creating the function for the json input heights which return height of the person"
   ]
  },
  {
   "cell_type": "code",
   "execution_count": 4,
   "metadata": {},
   "outputs": [],
   "source": [
    "def get_heights(input_json):\n",
    "    heights = []\n",
    "    j = 0\n",
    "    for i in input_json:\n",
    "        heights.append(input_json[j][\"HeightCm\"])\n",
    "        j += 1\n",
    "    return heights"
   ]
  },
  {
   "cell_type": "markdown",
   "metadata": {},
   "source": [
    "Creating the function for the json input weight which return weight of the person"
   ]
  },
  {
   "cell_type": "code",
   "execution_count": 5,
   "metadata": {},
   "outputs": [],
   "source": [
    "def get_weights(input_json):\n",
    "    weights = []\n",
    "    j = 0\n",
    "    for i in input_json:\n",
    "        weights.append(input_json[j][\"WeightKg\"])\n",
    "        j += 1\n",
    "    return weights\n"
   ]
  },
  {
   "cell_type": "markdown",
   "metadata": {},
   "source": [
    "Creating the BMI function which is calculating the BMI of person"
   ]
  },
  {
   "cell_type": "code",
   "execution_count": 8,
   "metadata": {},
   "outputs": [],
   "source": [
    "def get_bmis(heights, weights):\n",
    "    bmis = []\n",
    "    j = 0\n",
    "    for h, w in zip(heights, weights):\n",
    "        bmis.append(round(w*10000/(h*h), 2))\n",
    "        j += 1\n",
    "    return bmis"
   ]
  },
  {
   "cell_type": "markdown",
   "metadata": {},
   "source": [
    "Now we create the function to give BMI status on basis of certain criteria"
   ]
  },
  {
   "cell_type": "code",
   "execution_count": 9,
   "metadata": {},
   "outputs": [],
   "source": [
    "def get_report(bmis):\n",
    "    health_risks = []\n",
    "    categories = []\n",
    "    for bmi in bmis:\n",
    "        if bmi < 18.5:\n",
    "            health_risks.append(\"Underweight\")\n",
    "            categories.append(\"Malnutrition risk\")\n",
    "        elif bmi >= 18.5 and bmi <= 24.9:\n",
    "            health_risks.append(\"Normal weight\")\n",
    "            categories.append(\"Low risk\")\n",
    "        elif bmi >= 25.0 and bmi <= 29.9:\n",
    "            health_risks.append(\"Overweight\")\n",
    "            categories.append(\"Enhanced risk\")\n",
    "        elif bmi >= 30.0 and bmi <= 34.9:\n",
    "            health_risks.append(\"Moderately obese\")\n",
    "            categories.append(\"Medium risk\")\n",
    "        elif bmi >= 35.0 and bmi <= 39.9:\n",
    "            health_risks.append(\"Severely obese\")\n",
    "            categories.append(\"High risk\")\n",
    "        elif bmi >= 40.0:\n",
    "            health_risks.append(\"Very severely obese\")\n",
    "            categories.append(\"Very high risk\")\n",
    "    return health_risks, categories"
   ]
  },
  {
   "cell_type": "markdown",
   "metadata": {},
   "source": [
    "Creating the function to show the different BMI variable"
   ]
  },
  {
   "cell_type": "code",
   "execution_count": 10,
   "metadata": {},
   "outputs": [],
   "source": [
    "def get_df(bmis, categories, health_risks):\n",
    "    df = pd.DataFrame(list(zip(bmis, categories, health_risks)),\n",
    "                      columns=[\"BMI\", \"Category\", \"HealthRisk\"])\n",
    "    return df"
   ]
  },
  {
   "cell_type": "markdown",
   "metadata": {},
   "source": [
    "Using lambda function we are checking the threashold value to check the BMI "
   ]
  },
  {
   "cell_type": "code",
   "execution_count": 11,
   "metadata": {},
   "outputs": [],
   "source": [
    "def get_overweights(bmis, threshold):\n",
    "    return list(filter(lambda x: (x > float(threshold)), bmis))\n"
   ]
  },
  {
   "cell_type": "markdown",
   "metadata": {},
   "source": [
    "Using main function we are calling the above function and pass the inputs parameter which is used to calculate the BMI "
   ]
  },
  {
   "cell_type": "code",
   "execution_count": 28,
   "metadata": {},
   "outputs": [
    {
     "name": "stdout",
     "output_type": "stream",
     "text": [
      "Persons BMI:  [32.83, 32.79, 23.77, 22.5, 31.11, 29.4]\n",
      "\n",
      "\n",
      "BMI Health risk are : \n",
      " ['Moderately obese', 'Moderately obese', 'Normal weight', 'Normal weight', 'Moderately obese', 'Overweight']\n",
      "\n",
      "\n",
      "BMI Categories are : \n",
      " ['Medium risk', 'Medium risk', 'Low risk', 'Low risk', 'Medium risk', 'Enhanced risk']\n",
      "\n",
      "\n",
      "     BMI       Category        HealthRisk\n",
      "0  32.83    Medium risk  Moderately obese\n",
      "1  32.79    Medium risk  Moderately obese\n",
      "2  23.77       Low risk     Normal weight\n",
      "3  22.50       Low risk     Normal weight\n",
      "4  31.11    Medium risk  Moderately obese\n",
      "5  29.40  Enhanced risk        Overweight\n",
      "\n",
      "\n",
      "Overweight persons are :  [32.83, 32.79, 31.11, 29.4]\n",
      "Overweights count : 4\n"
     ]
    }
   ],
   "source": [
    "def main():\n",
    "    js = [{\"Gender\": \"Male\", \"HeightCm\": 171, \"WeightKg\": 96},\n",
    "          {\"Gender\": \"Male\", \"HeightCm\": 161, \"WeightKg\": 85},\n",
    "          {\"Gender\": \"Male\", \"HeightCm\": 180, \"WeightKg\": 77},\n",
    "          {\"Gender\": \"Female\", \"HeightCm\": 166, \"WeightKg\": 62},\n",
    "          {\"Gender\": \"Female\", \"HeightCm\": 150, \"WeightKg\": 70},\n",
    "          {\"Gender\": \"Female\", \"HeightCm\": 167, \"WeightKg\": 82}]\n",
    "\n",
    "    h = get_heights(js)\n",
    "    w = get_weights(js)\n",
    "    bmis = get_bmis(h, w)\n",
    "    print(\"Persons BMI: \",bmis)\n",
    "    print(\"\\n\")\n",
    "    # print(75/1.75/1.75) -> 24.49\n",
    "    report = get_report(bmis)\n",
    "    health_risks = report[0]\n",
    "    categories = report[1]\n",
    "    print(\"BMI Health risk are : \\n\",health_risks)\n",
    "    print(\"\\n\")\n",
    "    print(\"BMI Categories are : \\n\",categories)\n",
    "    print(\"\\n\")\n",
    "    df = get_df(bmis, categories, health_risks)\n",
    "    print(df)\n",
    "    print(\"\\n\")\n",
    "    overweights = get_overweights(bmis, threshold=25.0)\n",
    "    print(\"Overweight persons are : \",overweights)\n",
    "    overweights_count = len(overweights)\n",
    "    print(\"Overweights count :\",overweights_count)\n",
    "\n",
    "\n",
    "if __name__ == \"__main__\":\n",
    "    main()"
   ]
  },
  {
   "cell_type": "markdown",
   "metadata": {},
   "source": [
    "#### From the output BMI we can conclude the heath risk of the person and other factor which helps to improve the person health"
   ]
  },
  {
   "cell_type": "code",
   "execution_count": null,
   "metadata": {},
   "outputs": [],
   "source": []
  },
  {
   "cell_type": "code",
   "execution_count": null,
   "metadata": {},
   "outputs": [],
   "source": []
  }
 ],
 "metadata": {
  "kernelspec": {
   "display_name": "Python 3",
   "language": "python",
   "name": "python3"
  },
  "language_info": {
   "codemirror_mode": {
    "name": "ipython",
    "version": 3
   },
   "file_extension": ".py",
   "mimetype": "text/x-python",
   "name": "python",
   "nbconvert_exporter": "python",
   "pygments_lexer": "ipython3",
   "version": "3.8.3"
  }
 },
 "nbformat": 4,
 "nbformat_minor": 4
}
